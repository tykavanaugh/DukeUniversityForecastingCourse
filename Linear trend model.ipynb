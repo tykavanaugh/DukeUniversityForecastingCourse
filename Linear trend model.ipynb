{
 "cells": [
  {
   "cell_type": "code",
   "execution_count": 100,
   "metadata": {},
   "outputs": [],
   "source": [
    "import pandas as pd\n",
    "import numpy as np\n",
    "import random\n",
    "import matplotlib.pyplot as plt\n",
    "import scipy\n",
    "from sklearn import datasets, linear_model\n",
    "import statsmodels.api as sm\n",
    "%matplotlib inline\n",
    "#https://people.duke.edu/~rnau/411home.htm\n",
    "np.random.seed(1)"
   ]
  },
  {
   "cell_type": "code",
   "execution_count": 101,
   "metadata": {},
   "outputs": [],
   "source": [
    "df = pd.read_excel('Mean_and_linear_trend_models_for_X1_X2.xlsx')"
   ]
  },
  {
   "cell_type": "code",
   "execution_count": 102,
   "metadata": {},
   "outputs": [],
   "source": [
    "df = df[['X1','X2']]\n",
    "df = df.drop(30)"
   ]
  },
  {
   "cell_type": "code",
   "execution_count": 107,
   "metadata": {},
   "outputs": [],
   "source": [
    "x = np.array(df)\n",
    "x0 = x[:,[0]]\n",
    "x1 = x[:,[1]]"
   ]
  },
  {
   "cell_type": "code",
   "execution_count": 108,
   "metadata": {},
   "outputs": [
    {
     "data": {
      "text/plain": [
       "(array([[ 25.],\n",
       "        [ 42.],\n",
       "        [ 54.],\n",
       "        [ 26.],\n",
       "        [ 39.],\n",
       "        [ 34.],\n",
       "        [ 24.],\n",
       "        [ 37.],\n",
       "        [ 23.],\n",
       "        [ 40.],\n",
       "        [ 30.],\n",
       "        [ 15.],\n",
       "        [ 23.],\n",
       "        [ 40.],\n",
       "        [ 32.],\n",
       "        [ 46.],\n",
       "        [ 50.],\n",
       "        [ 26.],\n",
       "        [ 44.],\n",
       "        [ 58.],\n",
       "        [ 48.],\n",
       "        [ 46.],\n",
       "        [ 36.],\n",
       "        [ 55.],\n",
       "        [ 55.],\n",
       "        [ 41.],\n",
       "        [ 35.],\n",
       "        [ 64.],\n",
       "        [ 38.],\n",
       "        [ 29.]]), array([[ 20.],\n",
       "        [ 19.],\n",
       "        [ 21.],\n",
       "        [ 18.],\n",
       "        [ 18.],\n",
       "        [ 21.],\n",
       "        [ 22.],\n",
       "        [ 23.],\n",
       "        [ 22.],\n",
       "        [ 22.],\n",
       "        [ 26.],\n",
       "        [ 24.],\n",
       "        [ 23.],\n",
       "        [ 23.],\n",
       "        [ 25.],\n",
       "        [ 27.],\n",
       "        [ 28.],\n",
       "        [ 28.],\n",
       "        [ 29.],\n",
       "        [ 29.],\n",
       "        [ 31.],\n",
       "        [ 35.],\n",
       "        [ 36.],\n",
       "        [ 37.],\n",
       "        [ 37.],\n",
       "        [ 37.],\n",
       "        [ 41.],\n",
       "        [ 42.],\n",
       "        [ 41.],\n",
       "        [ 44.]]))"
      ]
     },
     "execution_count": 108,
     "metadata": {},
     "output_type": "execute_result"
    }
   ],
   "source": [
    "x0,x1"
   ]
  },
  {
   "cell_type": "code",
   "execution_count": 117,
   "metadata": {},
   "outputs": [
    {
     "data": {
      "text/plain": [
       "[<matplotlib.lines.Line2D at 0x2113764198>]"
      ]
     },
     "execution_count": 117,
     "metadata": {},
     "output_type": "execute_result"
    },
    {
     "data": {
      "image/png": "[encoded data removed]",
      "text/plain": [
       "<matplotlib.figure.Figure at 0x1041d71d0>"
      ]
     },
     "metadata": {},
     "output_type": "display_data"
    }
   ],
   "source": [
    "plt.plot(scipy.stats.linregress(x))"
   ]
  },
  {
   "cell_type": "code",
   "execution_count": null,
   "metadata": {
    "collapsed": true
   },
   "outputs": [],
   "source": [
    "scipy.stats.linregress(x1)"
   ]
  }
 ],
 "metadata": {
  "kernelspec": {
   "display_name": "Python 3",
   "language": "python",
   "name": "python3"
  },
  "language_info": {
   "codemirror_mode": {
    "name": "ipython",
    "version": 3
   },
   "file_extension": ".py",
   "mimetype": "text/x-python",
   "name": "python",
   "nbconvert_exporter": "python",
   "pygments_lexer": "ipython3",
   "version": "3.6.2"
  }
 },
 "nbformat": 4,
 "nbformat_minor": 2
}
