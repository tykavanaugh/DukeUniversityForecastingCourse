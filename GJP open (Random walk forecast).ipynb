{
 "cells": [
  {
   "cell_type": "code",
   "execution_count": 9,
   "metadata": {
    "collapsed": true
   },
   "outputs": [],
   "source": [
    "import pandas as pd\n",
    "import numpy as np\n",
    "import random\n",
    "import matplotlib.pyplot as plt\n",
    "import scipy\n",
    "#https://www.gjopen.com/questions/1045-what-will-be-the-closing-spot-price-for-an-ounce-of-gold-against-the-us-dollar-on-28-december-2018"
   ]
  },
  {
   "cell_type": "code",
   "execution_count": 10,
   "metadata": {
    "collapsed": true
   },
   "outputs": [],
   "source": [
    "from random import seed\n",
    "from random import random\n",
    "from sklearn.metrics import mean_squared_error"
   ]
  },
  {
   "cell_type": "code",
   "execution_count": 11,
   "metadata": {},
   "outputs": [],
   "source": [
    "df = pd.read_csv('XAU_USD Historical Data.csv')\n",
    "pricesstr = df['Price']\n",
    "#create uncleaned array of prices from the CSV"
   ]
  },
  {
   "cell_type": "code",
   "execution_count": 12,
   "metadata": {},
   "outputs": [],
   "source": [
    "prices = []"
   ]
  },
  {
   "cell_type": "code",
   "execution_count": 13,
   "metadata": {},
   "outputs": [],
   "source": [
    "for i in pricesstr:\n",
    "    out = float(i.replace(',',''))\n",
    "    prices.append(out)\n",
    "    \n",
    "#clean up the data which is both in str and has commas that cause errors"
   ]
  },
  {
   "cell_type": "code",
   "execution_count": 14,
   "metadata": {},
   "outputs": [
    {
     "data": {
      "text/plain": [
       "61.185858493731125"
      ]
     },
     "execution_count": 14,
     "metadata": {},
     "output_type": "execute_result"
    }
   ],
   "source": [
    "pricesSTD = np.std(prices)\n",
    "pricesSTD\n",
    "#standard deviation"
   ]
  },
  {
   "cell_type": "code",
   "execution_count": 29,
   "metadata": {},
   "outputs": [],
   "source": [
    "step = np.average(np.diff(prices))\n",
    "#defines step to take during random walk predictions"
   ]
  },
  {
   "cell_type": "code",
   "execution_count": 30,
   "metadata": {},
   "outputs": [
    {
     "name": "stdout",
     "output_type": "stream",
     "text": [
      "146.567642611\n"
     ]
    }
   ],
   "source": [
    "testErrors = []\n",
    "for i in range(0,9999):\n",
    "    train_size = int(len(prices) * 0.66)\n",
    "    train, test = prices[0:train_size], prices[train_size:]\n",
    "    # random prediction\n",
    "    predictions = list()\n",
    "    history = train[-1]\n",
    "    for i in range(len(test)):\n",
    "        yhat = history + ((-(step)) if random() < 0.5 else step)\n",
    "        predictions.append(yhat)\n",
    "        history = test[i]\n",
    "    error = mean_squared_error(test, predictions)\n",
    "    testErrors.append(error)\n",
    "print(np.average(testErrors))\n",
    "errorrate = np.average(testErrors)\n",
    "#tests multipule random walks for accuracy and averages the error rate"
   ]
  },
  {
   "cell_type": "code",
   "execution_count": 40,
   "metadata": {},
   "outputs": [],
   "source": [
    "startPoint = df.iloc[0][1]\n",
    "startPoint = float(startPoint.replace(',',''))"
   ]
  },
  {
   "cell_type": "code",
   "execution_count": 49,
   "metadata": {},
   "outputs": [
    {
     "name": "stdout",
     "output_type": "stream",
     "text": [
      "1238.48\n",
      "\n"
     ]
    },
    {
     "data": {
      "text/plain": [
       "1091.9123573886206"
      ]
     },
     "metadata": {},
     "output_type": "display_data"
    },
    {
     "data": {
      "text/plain": [
       "1385.0476426113794"
      ]
     },
     "metadata": {},
     "output_type": "display_data"
    },
    {
     "name": "stdout",
     "output_type": "stream",
     "text": [
      "\n"
     ]
    },
    {
     "data": {
      "text/plain": [
       "1177.2941415062689"
      ]
     },
     "metadata": {},
     "output_type": "display_data"
    },
    {
     "data": {
      "text/plain": [
       "1299.6658584937311"
      ]
     },
     "metadata": {},
     "output_type": "display_data"
    },
    {
     "name": "stdout",
     "output_type": "stream",
     "text": [
      "\n"
     ]
    },
    {
     "data": {
      "text/plain": [
       "1116.1082830125379"
      ]
     },
     "metadata": {},
     "output_type": "display_data"
    },
    {
     "data": {
      "text/plain": [
       "1360.8517169874622"
      ]
     },
     "metadata": {},
     "output_type": "display_data"
    },
    {
     "name": "stdout",
     "output_type": "stream",
     "text": [
      "\n"
     ]
    },
    {
     "data": {
      "text/plain": [
       "1054.9224245188066"
      ]
     },
     "metadata": {},
     "output_type": "display_data"
    },
    {
     "data": {
      "text/plain": [
       "1422.0375754811935"
      ]
     },
     "metadata": {},
     "output_type": "display_data"
    }
   ],
   "source": [
    "print(str(startPoint) + '\\n')\n",
    "display((startPoint-errorrate),(startPoint+errorrate))\n",
    "print('')\n",
    "display((startPoint-pricesSTD),(startPoint+pricesSTD))\n",
    "print('')\n",
    "display((startPoint-2 * pricesSTD),(startPoint+2 * pricesSTD))\n",
    "print('')\n",
    "display((startPoint-3 * pricesSTD),(startPoint+3 * pricesSTD))"
   ]
  },
  {
   "cell_type": "code",
   "execution_count": null,
   "metadata": {
    "collapsed": true
   },
   "outputs": [],
   "source": []
  }
 ],
 "metadata": {
  "kernelspec": {
   "display_name": "Python 3",
   "language": "python",
   "name": "python3"
  },
  "language_info": {
   "codemirror_mode": {
    "name": "ipython",
    "version": 3
   },
   "file_extension": ".py",
   "mimetype": "text/x-python",
   "name": "python",
   "nbconvert_exporter": "python",
   "pygments_lexer": "ipython3",
   "version": "3.6.2"
  }
 },
 "nbformat": 4,
 "nbformat_minor": 2
}
